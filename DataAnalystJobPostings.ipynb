{
 "cells": [
  {
   "cell_type": "markdown",
   "metadata": {},
   "source": [
    "# **Data Analyst Job Postings**\n"
   ]
  },
  {
   "cell_type": "markdown",
   "metadata": {},
   "source": [
    "Data science is a rapidly growing field in the tech industry, and LinkedIn is a popular platform for finding job opportunities in this domain.\n",
    "\n",
    "In this project, we will use a dataset from kaggle.com that provides valuable insights into data analyst job postings, including the required skills and software proficiency sought by employers.\n"
   ]
  },
  {
   "cell_type": "markdown",
   "metadata": {},
   "source": [
    "## Objectives\n"
   ]
  },
  {
   "cell_type": "markdown",
   "metadata": {},
   "source": [
    "To gain valuable insights from this dataset, we will perform the below tasks:\n"
   ]
  },
  {
   "cell_type": "markdown",
   "metadata": {},
   "source": [
    "* Extract information from kaggle web site \n",
    "* Load the extracted data in a dataframe.\n",
    "* Explore the dataset.\n",
    "* Get familiar with the data types in the dataset.\n",
    "* Get information about the number of jobs in the dataset per Location and Job level.\n",
    "* Get information about the number of jobs per Location and per job type.\n",
    "* Explore the share of job level.\n",
    "* Explore the share of job type."
   ]
  },
  {
   "cell_type": "markdown",
   "metadata": {},
   "source": [
    "## Load the dataset\n"
   ]
  },
  {
   "cell_type": "markdown",
   "metadata": {},
   "source": [
    "Firstly let's import the required libraries.\n"
   ]
  },
  {
   "cell_type": "code",
   "execution_count": 1,
   "metadata": {
    "tags": []
   },
   "outputs": [],
   "source": [
    "import pandas as pd\n",
    "import seaborn as sns\n",
    "import matplotlib.pyplot as plt"
   ]
  },
  {
   "cell_type": "markdown",
   "metadata": {},
   "source": [
    "The dataset is available as a CSV file for download at the https://www.kaggle.com/datasets/asaniczka/data-analyst-job-postings.\n",
    "\n",
    "We downloaded the dataset and saved it into our project directory.\n"
   ]
  },
  {
   "cell_type": "markdown",
   "metadata": {},
   "source": [
    "Let's load the data into a dataframe.\n"
   ]
  },
  {
   "cell_type": "code",
   "execution_count": 2,
   "metadata": {
    "tags": []
   },
   "outputs": [],
   "source": [
    "# we use read_csv to load the dataset into a dataframe\n",
    "df = pd.read_csv(\"D:\\Cours\\Data\\My Data Analyst Portfolio\\Python Projects\\Data Analyst Job Postings\\postings.csv\") "
   ]
  },
  {
   "cell_type": "markdown",
   "metadata": {},
   "source": [
    "## Explore the data set\n"
   ]
  },
  {
   "cell_type": "markdown",
   "metadata": {},
   "source": [
    "To make sure the data set has been loaded properly and get a feel of how the dataset will look, we print the top 5 rows of the dataset.\n"
   ]
  },
  {
   "cell_type": "code",
   "execution_count": 3,
   "metadata": {
    "tags": []
   },
   "outputs": [
    {
     "data": {
      "text/html": [
       "<div>\n",
       "<style scoped>\n",
       "    .dataframe tbody tr th:only-of-type {\n",
       "        vertical-align: middle;\n",
       "    }\n",
       "\n",
       "    .dataframe tbody tr th {\n",
       "        vertical-align: top;\n",
       "    }\n",
       "\n",
       "    .dataframe thead th {\n",
       "        text-align: right;\n",
       "    }\n",
       "</style>\n",
       "<table border=\"1\" class=\"dataframe\">\n",
       "  <thead>\n",
       "    <tr style=\"text-align: right;\">\n",
       "      <th></th>\n",
       "      <th>job_title</th>\n",
       "      <th>company</th>\n",
       "      <th>job_location</th>\n",
       "      <th>job_link</th>\n",
       "      <th>first_seen</th>\n",
       "      <th>search_city</th>\n",
       "      <th>search_country</th>\n",
       "      <th>job level</th>\n",
       "      <th>job_type</th>\n",
       "      <th>job_summary</th>\n",
       "      <th>job_skills</th>\n",
       "    </tr>\n",
       "  </thead>\n",
       "  <tbody>\n",
       "    <tr>\n",
       "      <th>0</th>\n",
       "      <td>Data Analyst-SQL, Tableau</td>\n",
       "      <td>Zortech Solutions</td>\n",
       "      <td>Mountain View, CA</td>\n",
       "      <td>https://www.linkedin.com/jobs/data-analyst-jobs</td>\n",
       "      <td>2023-12-20</td>\n",
       "      <td>Bloomington</td>\n",
       "      <td>United States</td>\n",
       "      <td>Associate</td>\n",
       "      <td>Onsite</td>\n",
       "      <td>NaN</td>\n",
       "      <td>NaN</td>\n",
       "    </tr>\n",
       "    <tr>\n",
       "      <th>1</th>\n",
       "      <td>Market Research &amp; Insights Analyst</td>\n",
       "      <td>Indiana University Foundation</td>\n",
       "      <td>Bloomington, IN</td>\n",
       "      <td>https://www.linkedin.com/jobs/view/market-rese...</td>\n",
       "      <td>2023-12-20</td>\n",
       "      <td>Bloomington</td>\n",
       "      <td>United States</td>\n",
       "      <td>Mid senior</td>\n",
       "      <td>Onsite</td>\n",
       "      <td>Company Description\\nAre you a high-performer ...</td>\n",
       "      <td>Data analysis, Market research, Survey develop...</td>\n",
       "    </tr>\n",
       "    <tr>\n",
       "      <th>2</th>\n",
       "      <td>Business Systems Analyst `1</td>\n",
       "      <td>Cook Medical</td>\n",
       "      <td>Bloomington, IN</td>\n",
       "      <td>https://www.linkedin.com/jobs/view/business-sy...</td>\n",
       "      <td>2023-12-20</td>\n",
       "      <td>Bloomington</td>\n",
       "      <td>United States</td>\n",
       "      <td>Mid senior</td>\n",
       "      <td>Onsite</td>\n",
       "      <td>Overview\\nThe Business Systems Analyst 1 perfo...</td>\n",
       "      <td>Business Analysis, Technical Writing, Software...</td>\n",
       "    </tr>\n",
       "    <tr>\n",
       "      <th>3</th>\n",
       "      <td>Senior VAT and Indirect Tax Analyst</td>\n",
       "      <td>Epic</td>\n",
       "      <td>Bloomington, IN</td>\n",
       "      <td>https://www.linkedin.com/jobs/view/senior-vat-...</td>\n",
       "      <td>2023-12-20</td>\n",
       "      <td>Bloomington</td>\n",
       "      <td>United States</td>\n",
       "      <td>Mid senior</td>\n",
       "      <td>Onsite</td>\n",
       "      <td>We're looking for an experienced tax professio...</td>\n",
       "      <td>Accounting, Finance, VAT/GST tax regimes, US a...</td>\n",
       "    </tr>\n",
       "    <tr>\n",
       "      <th>4</th>\n",
       "      <td>Senior HRIS Analyst (Timekeeping and Payroll)</td>\n",
       "      <td>Nordson Corporation</td>\n",
       "      <td>Greater Bloomington Area</td>\n",
       "      <td>https://www.linkedin.com/jobs/view/senior-hris...</td>\n",
       "      <td>2023-12-20</td>\n",
       "      <td>Bloomington</td>\n",
       "      <td>United States</td>\n",
       "      <td>Mid senior</td>\n",
       "      <td>Remote</td>\n",
       "      <td>Collaboration drives Nordson’s success as a ma...</td>\n",
       "      <td>Workday HCM, UKG Dimensions, Ceridian Dayforce...</td>\n",
       "    </tr>\n",
       "  </tbody>\n",
       "</table>\n",
       "</div>"
      ],
      "text/plain": [
       "                                       job_title  \\\n",
       "0                      Data Analyst-SQL, Tableau   \n",
       "1             Market Research & Insights Analyst   \n",
       "2                    Business Systems Analyst `1   \n",
       "3            Senior VAT and Indirect Tax Analyst   \n",
       "4  Senior HRIS Analyst (Timekeeping and Payroll)   \n",
       "\n",
       "                         company              job_location  \\\n",
       "0              Zortech Solutions         Mountain View, CA   \n",
       "1  Indiana University Foundation           Bloomington, IN   \n",
       "2                   Cook Medical           Bloomington, IN   \n",
       "3                           Epic           Bloomington, IN   \n",
       "4            Nordson Corporation  Greater Bloomington Area   \n",
       "\n",
       "                                            job_link  first_seen  search_city  \\\n",
       "0    https://www.linkedin.com/jobs/data-analyst-jobs  2023-12-20  Bloomington   \n",
       "1  https://www.linkedin.com/jobs/view/market-rese...  2023-12-20  Bloomington   \n",
       "2  https://www.linkedin.com/jobs/view/business-sy...  2023-12-20  Bloomington   \n",
       "3  https://www.linkedin.com/jobs/view/senior-vat-...  2023-12-20  Bloomington   \n",
       "4  https://www.linkedin.com/jobs/view/senior-hris...  2023-12-20  Bloomington   \n",
       "\n",
       "  search_country   job level job_type  \\\n",
       "0  United States   Associate   Onsite   \n",
       "1  United States  Mid senior   Onsite   \n",
       "2  United States  Mid senior   Onsite   \n",
       "3  United States  Mid senior   Onsite   \n",
       "4  United States  Mid senior   Remote   \n",
       "\n",
       "                                         job_summary  \\\n",
       "0                                                NaN   \n",
       "1  Company Description\\nAre you a high-performer ...   \n",
       "2  Overview\\nThe Business Systems Analyst 1 perfo...   \n",
       "3  We're looking for an experienced tax professio...   \n",
       "4  Collaboration drives Nordson’s success as a ma...   \n",
       "\n",
       "                                          job_skills  \n",
       "0                                                NaN  \n",
       "1  Data analysis, Market research, Survey develop...  \n",
       "2  Business Analysis, Technical Writing, Software...  \n",
       "3  Accounting, Finance, VAT/GST tax regimes, US a...  \n",
       "4  Workday HCM, UKG Dimensions, Ceridian Dayforce...  "
      ]
     },
     "execution_count": 3,
     "metadata": {},
     "output_type": "execute_result"
    }
   ],
   "source": [
    "#head() will print the top 5 rows of the dataset\n",
    "df.head()"
   ]
  },
  {
   "cell_type": "markdown",
   "metadata": {},
   "source": [
    "## Find out the number of rows and columns\n"
   ]
  },
  {
   "cell_type": "markdown",
   "metadata": {},
   "source": [
    "Let's start by exploring the numbers of rows and columns of data in the dataset.\n"
   ]
  },
  {
   "cell_type": "code",
   "execution_count": 4,
   "metadata": {
    "tags": []
   },
   "outputs": [
    {
     "name": "stdout",
     "output_type": "stream",
     "text": [
      "Number of row in the dataset:  12894\n"
     ]
    }
   ],
   "source": [
    "# shape[0] gives the number of row in the dataset\n",
    "num_rows = df.shape[0]\n",
    "print(\"Number of row in the dataset: \",num_rows)"
   ]
  },
  {
   "cell_type": "markdown",
   "metadata": {},
   "source": [
    "Print the number of columns in the dataset.\n"
   ]
  },
  {
   "cell_type": "code",
   "execution_count": 5,
   "metadata": {
    "tags": []
   },
   "outputs": [
    {
     "name": "stdout",
     "output_type": "stream",
     "text": [
      "Number of columns in the dataset:  11\n"
     ]
    }
   ],
   "source": [
    "# shape[1] gives the number of columns in the dataset\n",
    "num_cols = df.shape[1]\n",
    "print(\"Number of columns in the dataset: \",num_cols)"
   ]
  },
  {
   "cell_type": "markdown",
   "metadata": {},
   "source": [
    "## Identify the data types of each column\n"
   ]
  },
  {
   "cell_type": "markdown",
   "metadata": {},
   "source": [
    "We then explore the dataset to identify the data types of each column.\n"
   ]
  },
  {
   "cell_type": "code",
   "execution_count": 6,
   "metadata": {
    "tags": []
   },
   "outputs": [
    {
     "name": "stdout",
     "output_type": "stream",
     "text": [
      "<class 'pandas.core.frame.DataFrame'>\n",
      "RangeIndex: 12894 entries, 0 to 12893\n",
      "Data columns (total 11 columns):\n",
      " #   Column          Non-Null Count  Dtype \n",
      "---  ------          --------------  ----- \n",
      " 0   job_title       12894 non-null  object\n",
      " 1   company         12894 non-null  object\n",
      " 2   job_location    12894 non-null  object\n",
      " 3   job_link        12894 non-null  object\n",
      " 4   first_seen      12894 non-null  object\n",
      " 5   search_city     12894 non-null  object\n",
      " 6   search_country  12894 non-null  object\n",
      " 7   job level       12894 non-null  object\n",
      " 8   job_type        12894 non-null  object\n",
      " 9   job_summary     12851 non-null  object\n",
      " 10  job_skills      12705 non-null  object\n",
      "dtypes: object(11)\n",
      "memory usage: 1.1+ MB\n"
     ]
    }
   ],
   "source": [
    "# info() prints the datatype of all columns.\n",
    "df.info()"
   ]
  },
  {
   "cell_type": "markdown",
   "metadata": {},
   "source": [
    "The dataset is the result of a world wide survey. \n",
    "\n",
    "Let's print from how many unique countries people are looking for a data analyst job.\n"
   ]
  },
  {
   "cell_type": "code",
   "execution_count": 7,
   "metadata": {
    "tags": []
   },
   "outputs": [
    {
     "name": "stdout",
     "output_type": "stream",
     "text": [
      "Number of unique country: 4\n"
     ]
    }
   ],
   "source": [
    "# nunique() \n",
    "num_distinct_country = df['search_country'].nunique()\n",
    "print(\"Number of unique country:\", num_distinct_country)"
   ]
  },
  {
   "cell_type": "markdown",
   "metadata": {},
   "source": [
    "Let's print from how many unique city people are looking for a data analyst job.\n"
   ]
  },
  {
   "cell_type": "code",
   "execution_count": 8,
   "metadata": {},
   "outputs": [
    {
     "name": "stdout",
     "output_type": "stream",
     "text": [
      "Number of unique city: 834\n"
     ]
    }
   ],
   "source": [
    "num_distinct_city = df['search_city'].nunique()\n",
    "print(\"Number of unique city:\", num_distinct_city)"
   ]
  },
  {
   "cell_type": "markdown",
   "metadata": {},
   "source": [
    "Now let's find out how many unique job locations are in the dataset"
   ]
  },
  {
   "cell_type": "code",
   "execution_count": 9,
   "metadata": {},
   "outputs": [
    {
     "name": "stdout",
     "output_type": "stream",
     "text": [
      "Number of job Location: 2446\n"
     ]
    }
   ],
   "source": [
    "num_distinct_job_location = df['job_location'].nunique()\n",
    "print(\"Number of job Location:\", num_distinct_job_location)"
   ]
  },
  {
   "cell_type": "markdown",
   "metadata": {},
   "source": [
    "## Number of jobs in the dataset per Location and Job level"
   ]
  },
  {
   "cell_type": "markdown",
   "metadata": {},
   "source": [
    "We create a new dataframe called jobs_per_loc_level that contains the number of jobs per location and per job level. The groupby function is used to group the rows by 'jobs_per_loc_level' and 'job level', and the size function is used to count the number of rows in each group. The reset_index function is used to convert the groupby object back into a dataframe."
   ]
  },
  {
   "cell_type": "code",
   "execution_count": 10,
   "metadata": {},
   "outputs": [
    {
     "name": "stdout",
     "output_type": "stream",
     "text": [
      "                              job_location   job level  num_jobs\n",
      "0      Abbey Wood, England, United Kingdom  Mid senior         1\n",
      "1  Abbots Salford, England, United Kingdom  Mid senior         1\n",
      "2                               Abbott, TX   Associate         1\n",
      "3                               Abbott, TX  Mid senior         2\n",
      "4              Aberdeen Proving Ground, MD   Associate         1\n",
      "5              Aberdeen Proving Ground, MD  Mid senior         6\n",
      "6                             Aberdeen, MD  Mid senior         3\n",
      "7       Aberdeen, Scotland, United Kingdom  Mid senior         6\n",
      "8  Aberdeenshire, Scotland, United Kingdom  Mid senior         1\n",
      "9        Abingdon, England, United Kingdom   Associate         1\n"
     ]
    }
   ],
   "source": [
    "# Group the dataframe by 'job_location' and 'job level' and count the number of jobs in each group\n",
    "jobs_per_loc_level = df.groupby(['job_location', 'job level']).size().reset_index(name='num_jobs')\n",
    "\n",
    "# We then Print the first 10 rows of the resulting dataframe\n",
    "print(jobs_per_loc_level.head(10))"
   ]
  },
  {
   "cell_type": "markdown",
   "metadata": {},
   "source": [
    "## Number of jobs in the dataset per Location and Job type"
   ]
  },
  {
   "cell_type": "markdown",
   "metadata": {},
   "source": [
    "We do the same thing for as the task above, creating a new dataframe named, jobs_per_loc_type."
   ]
  },
  {
   "cell_type": "code",
   "execution_count": 11,
   "metadata": {},
   "outputs": [
    {
     "name": "stdout",
     "output_type": "stream",
     "text": [
      "                              job_location job_type  num_jobs\n",
      "0      Abbey Wood, England, United Kingdom   Hybrid         1\n",
      "1  Abbots Salford, England, United Kingdom   Onsite         1\n",
      "2                               Abbott, TX   Onsite         3\n",
      "3              Aberdeen Proving Ground, MD   Hybrid         3\n",
      "4              Aberdeen Proving Ground, MD   Onsite         4\n",
      "5                             Aberdeen, MD   Hybrid         1\n",
      "6                             Aberdeen, MD   Onsite         2\n",
      "7       Aberdeen, Scotland, United Kingdom   Hybrid         1\n",
      "8       Aberdeen, Scotland, United Kingdom   Onsite         5\n",
      "9  Aberdeenshire, Scotland, United Kingdom   Hybrid         1\n"
     ]
    }
   ],
   "source": [
    "# Group the dataframe by 'job_location' and 'job_type' and count the number of jobs in each group\n",
    "jobs_per_loc_type = df.groupby(['job_location', 'job_type']).size().reset_index(name='num_jobs')\n",
    "\n",
    "# We then Print the first 10 rows of the resulting dataframe\n",
    "print(jobs_per_loc_type.head(10))"
   ]
  },
  {
   "cell_type": "markdown",
   "metadata": {},
   "source": [
    "## Let's explore the share of job level."
   ]
  },
  {
   "cell_type": "code",
   "execution_count": 12,
   "metadata": {},
   "outputs": [
    {
     "data": {
      "image/png": "[encoded data removed]",
      "text/plain": [
       "<Figure size 640x480 with 1 Axes>"
      ]
     },
     "metadata": {},
     "output_type": "display_data"
    }
   ],
   "source": [
    "# Group the dataframe by 'job level' and count the number of jobs in each group\n",
    "jobs_per_level = df.groupby('job level').size().reset_index(name='num_jobs')\n",
    "\n",
    "# Create a pie chart of the grouped data\n",
    "plt.pie(jobs_per_level['num_jobs'], labels=jobs_per_level['job level'], autopct='%1.1f%%')\n",
    "\n",
    "# Add a title to the chart\n",
    "plt.title('Job Level Distribution')\n",
    "\n",
    "# Display the chart\n",
    "plt.show()"
   ]
  },
  {
   "cell_type": "markdown",
   "metadata": {},
   "source": [
    "## Let's explore the share of job type."
   ]
  },
  {
   "cell_type": "code",
   "execution_count": 13,
   "metadata": {},
   "outputs": [
    {
     "data": {
      "image/png": "[encoded data removed]",
      "text/plain": [
       "<Figure size 640x480 with 1 Axes>"
      ]
     },
     "metadata": {},
     "output_type": "display_data"
    }
   ],
   "source": [
    "# Group the dataframe by 'job_type' and count the number of jobs in each group\n",
    "jobs_per_type = df.groupby('job_type').size().reset_index(name='num_jobs')\n",
    "\n",
    "# Create a bar chart of the grouped data\n",
    "plt.bar(jobs_per_type['job_type'], jobs_per_type['num_jobs'])\n",
    "\n",
    "# Add labels and title to the chart\n",
    "plt.xlabel('Job Type')\n",
    "plt.ylabel('Number of Jobs')\n",
    "plt.title('Number of Jobs per Job Type')\n",
    "\n",
    "# Display the chart\n",
    "plt.show()"
   ]
  },
  {
   "cell_type": "markdown",
   "metadata": {},
   "source": [
    "## Authors\n"
   ]
  },
  {
   "cell_type": "markdown",
   "metadata": {},
   "source": [
    "Bruno WOUAMBA"
   ]
  }
 ],
 "metadata": {
  "kernelspec": {
   "display_name": "Python 3",
   "language": "python",
   "name": "python3"
  },
  "language_info": {
   "codemirror_mode": {
    "name": "ipython",
    "version": 3
   },
   "file_extension": ".py",
   "mimetype": "text/x-python",
   "name": "python",
   "nbconvert_exporter": "python",
   "pygments_lexer": "ipython3",
   "version": "3.11.9"
  }
 },
 "nbformat": 4,
 "nbformat_minor": 4
}
